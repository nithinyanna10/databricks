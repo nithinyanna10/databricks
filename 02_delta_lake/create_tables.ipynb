{
  "cells": [
    {
      "cell_type": "markdown",
      "metadata": {},
      "source": [
        "# Delta Lake: Creating Tables\n",
        "\n",
        "This notebook demonstrates how to create Delta tables and perform basic operations.\n",
        "\n",
        "## Learning Objectives\n",
        "- Convert CSV data to Delta format\n",
        "- Understand Delta table properties\n",
        "- Perform basic CRUD operations\n"
      ]
    },
    {
      "cell_type": "code",
      "execution_count": null,
      "metadata": {},
      "outputs": [],
      "source": [
        "# Load airlines dataset\n",
        "df = spark.read.csv(\"/databricks-datasets/airlines\", header=True, inferSchema=True)\n",
        "print(f\"Loaded {df.count()} records\")\n",
        "df.printSchema()\n"
      ]
    },
    {
      "cell_type": "code",
      "execution_count": null,
      "metadata": {},
      "outputs": [],
      "source": [
        "# Convert CSV to Delta format\n",
        "df.write.format(\"delta\").save(\"/delta/airlines\")\n",
        "print(\"Successfully converted to Delta format!\")\n"
      ]
    }
  ],
  "metadata": {
    "language_info": {
      "name": "python"
    }
  },
  "nbformat": 4,
  "nbformat_minor": 2
}
