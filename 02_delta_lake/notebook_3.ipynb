{
 "cells": [
  {
   "cell_type": "code",
   "execution_count": 0,
   "metadata": {
    "application/vnd.databricks.v1+cell": {
     "cellMetadata": {
      "byteLimit": 2048000,
      "rowLimit": 10000
     },
     "inputWidgets": {},
     "nuid": "52b36149-c43a-446f-a70c-8641ff51bc6a",
     "showTitle": false,
     "tableResultSettingsMap": {},
     "title": ""
    }
   },
   "outputs": [
    {
     "output_type": "stream",
     "name": "stdout",
     "output_type": "stream",
     "text": [
      "Loaded 1235347780 records\nroot\n |-- 2001: string (nullable = true)\n |-- 8: string (nullable = true)\n |-- 2: string (nullable = true)\n |-- 4: string (nullable = true)\n |-- NA4: string (nullable = true)\n |-- 1047: string (nullable = true)\n |-- NA6: string (nullable = true)\n |-- 1222: string (nullable = true)\n |-- AA: string (nullable = true)\n |-- 1056: string (nullable = true)\n |-- �NKNO�: string (nullable = true)\n |-- NA11: string (nullable = true)\n |-- 95: string (nullable = true)\n |-- NA13: string (nullable = true)\n |-- NA14: string (nullable = true)\n |-- NA15: string (nullable = true)\n |-- MCI: string (nullable = true)\n |-- ORD: string (nullable = true)\n |-- 403: string (nullable = true)\n |-- 019: string (nullable = true)\n |-- 020: string (nullable = true)\n |-- 1: string (nullable = true)\n |-- NA22: string (nullable = true)\n |-- 023: string (nullable = true)\n |-- NA24: string (nullable = true)\n |-- NA25: string (nullable = true)\n |-- NA26: string (nullable = true)\n |-- NA27: string (nullable = true)\n |-- NA28: string (nullable = true)\n |-- YES29: string (nullable = true)\n |-- YES30: string (nullable = true)\n\n"
     ]
    }
   ],
   "source": [
    "df = spark.read.csv(\"/databricks-datasets/airlines\", header=True, inferSchema=True)\n",
    "print(f\"Loaded {df.count()} records\")\n",
    "df.printSchema()\n"
   ]
  },
  {
   "cell_type": "code",
   "execution_count": 0,
   "metadata": {
    "application/vnd.databricks.v1+cell": {
     "cellMetadata": {
      "byteLimit": 2048000,
      "rowLimit": 10000
     },
     "inputWidgets": {},
     "nuid": "b605a379-5157-4193-879d-a4ffc267bd68",
     "showTitle": false,
     "tableResultSettingsMap": {},
     "title": ""
    }
   },
   "outputs": [
    {
     "output_type": "stream",
     "name": "stdout",
     "output_type": "stream",
     "text": [
      "+----+---+---+---+----+----+----+----+---+----+------+----+---+----+----+----+---+---+---+---+---+---+----+---+----+----+----+----+----+-----+-----+\n|2001|  8|  2|  4| NA4|1047| NA6|1222| AA|1056|�NKNO�|NA11| 95|NA13|NA14|NA15|MCI|ORD|403|019|020|  1|NA22|023|NA24|NA25|NA26|NA27|NA28|YES29|YES30|\n+----+---+---+---+----+----+----+----+---+----+------+----+---+----+----+----+---+---+---+---+---+---+----+---+----+----+----+----+----+-----+-----+\n|2001|  8|  3|  5|1048|1047|1210|1222| AA|1056|N274A1|  82| 95|  66| -12|   1|MCI|ORD|403|  6| 10|  0|  NA|  0|  NA|  NA|  NA|  NA|  NA|   NO|  YES|\n|2001|  8|  4|  6|1043|1047|1159|1222| AA|1056|N513A1|  76| 95|  61| -23|  -4|MCI|ORD|403|  4| 11|  0|  NA|  0|  NA|  NA|  NA|  NA|  NA|   NO|   NO|\n|2001|  8|  5|  7|1043|1047|1203|1222| AA|1056|N532A1|  80| 95|  65| -19|  -4|MCI|ORD|403|  6|  9|  0|  NA|  0|  NA|  NA|  NA|  NA|  NA|   NO|   NO|\n|2001|  8|  6|  1|1045|1047|1159|1222| AA|1056|N521A1|  74| 95|  62| -23|  -2|MCI|ORD|403|  4|  8|  0|  NA|  0|  NA|  NA|  NA|  NA|  NA|   NO|   NO|\n|2001|  8|  7|  2|1047|1047|1208|1222| AA|1056|N417A1|  81| 95|  65| -14|   0|MCI|ORD|403|  6| 10|  0|  NA|  0|  NA|  NA|  NA|  NA|  NA|   NO|   NO|\n+----+---+---+---+----+----+----+----+---+----+------+----+---+----+----+----+---+---+---+---+---+---+----+---+----+----+----+----+----+-----+-----+\nonly showing top 5 rows\n"
     ]
    }
   ],
   "source": [
    "df.show(5)"
   ]
  },
  {
   "cell_type": "code",
   "execution_count": 0,
   "metadata": {
    "application/vnd.databricks.v1+cell": {
     "cellMetadata": {
      "byteLimit": 2048000,
      "rowLimit": 10000
     },
     "inputWidgets": {},
     "nuid": "aae96356-77ac-45d5-9864-47d13da2c379",
     "showTitle": false,
     "tableResultSettingsMap": {},
     "title": ""
    }
   },
   "outputs": [
    {
     "output_type": "stream",
     "name": "stdout",
     "output_type": "stream",
     "text": [
      "+----+---+---+---+----+----+----+----+---+----+------+----+---+----+----+----+---+---+---+---+---+---+----+---+----+----+----+----+----+-----+-----+\n|2001|  8|  2|  4| NA4|1047| NA6|1222| AA|1056|�NKNO�|NA11| 95|NA13|NA14|NA15|MCI|ORD|403|019|020|  1|NA22|023|NA24|NA25|NA26|NA27|NA28|YES29|YES30|\n+----+---+---+---+----+----+----+----+---+----+------+----+---+----+----+----+---+---+---+---+---+---+----+---+----+----+----+----+----+-----+-----+\n|2001|  8|  3|  5|1048|1047|1210|1222| AA|1056|N274A1|  82| 95|  66| -12|   1|MCI|ORD|403|  6| 10|  0|  NA|  0|  NA|  NA|  NA|  NA|  NA|   NO|  YES|\n|2001|  8|  4|  6|1043|1047|1159|1222| AA|1056|N513A1|  76| 95|  61| -23|  -4|MCI|ORD|403|  4| 11|  0|  NA|  0|  NA|  NA|  NA|  NA|  NA|   NO|   NO|\n|2001|  8|  5|  7|1043|1047|1203|1222| AA|1056|N532A1|  80| 95|  65| -19|  -4|MCI|ORD|403|  6|  9|  0|  NA|  0|  NA|  NA|  NA|  NA|  NA|   NO|   NO|\n|2001|  8|  6|  1|1045|1047|1159|1222| AA|1056|N521A1|  74| 95|  62| -23|  -2|MCI|ORD|403|  4|  8|  0|  NA|  0|  NA|  NA|  NA|  NA|  NA|   NO|   NO|\n|2001|  8|  7|  2|1047|1047|1208|1222| AA|1056|N417A1|  81| 95|  65| -14|   0|MCI|ORD|403|  6| 10|  0|  NA|  0|  NA|  NA|  NA|  NA|  NA|   NO|   NO|\n+----+---+---+---+----+----+----+----+---+----+------+----+---+----+----+----+---+---+---+---+---+---+----+---+----+----+----+----+----+-----+-----+\n\n"
     ]
    }
   ],
   "source": [
    "df.createOrReplaceTempView(\"airlines_temp\")\n",
    "spark.sql(\"SELECT * FROM airlines_temp LIMIT 5\").show()"
   ]
  },
  {
   "cell_type": "markdown",
   "metadata": {
    "application/vnd.databricks.v1+cell": {
     "cellMetadata": {},
     "inputWidgets": {},
     "nuid": "df82c401-0b35-4fcc-b4e4-1cf91dd8dcae",
     "showTitle": false,
     "tableResultSettingsMap": {},
     "title": ""
    }
   },
   "source": [
    " Convert to Delta Format\n"
   ]
  },
  {
   "cell_type": "code",
   "execution_count": 0,
   "metadata": {
    "application/vnd.databricks.v1+cell": {
     "cellMetadata": {
      "byteLimit": 2048000,
      "rowLimit": 10000
     },
     "inputWidgets": {},
     "nuid": "62c3f9f1-3e2b-4ca0-b131-086c002abe29",
     "showTitle": false,
     "tableResultSettingsMap": {},
     "title": ""
    }
   },
   "outputs": [
    {
     "output_type": "stream",
     "name": "stdout",
     "output_type": "stream",
     "text": [
      "+----------+\n|  COUNT(*)|\n+----------+\n|1235347780|\n+----------+\n\n"
     ]
    }
   ],
   "source": [
    "df.write.format(\"delta\").mode(\"overwrite\").saveAsTable(\"airlines_delta_table\")\n",
    "spark.sql(\"SELECT COUNT(*) FROM airlines_delta_table\").show()\n"
   ]
  },
  {
   "cell_type": "markdown",
   "metadata": {
    "application/vnd.databricks.v1+cell": {
     "cellMetadata": {},
     "inputWidgets": {},
     "nuid": "c00a8460-f1c9-41eb-86cc-04a168051f5b",
     "showTitle": false,
     "tableResultSettingsMap": {},
     "title": ""
    }
   },
   "source": [
    "reading contents of table "
   ]
  },
  {
   "cell_type": "code",
   "execution_count": 0,
   "metadata": {
    "application/vnd.databricks.v1+cell": {
     "cellMetadata": {
      "byteLimit": 2048000,
      "rowLimit": 10000
     },
     "inputWidgets": {},
     "nuid": "5bb80289-d60d-4a59-bb45-155341a094fc",
     "showTitle": false,
     "tableResultSettingsMap": {},
     "title": ""
    }
   },
   "outputs": [
    {
     "output_type": "stream",
     "name": "stdout",
     "output_type": "stream",
     "text": [
      "✅ Delta table contains 1235347780 records\n+--------------------+--------+--------------------+--------------------+--------------------+----+----+----+----+----+------+----+----+----+----+----+----+----+----+----+----+----+----+----+----+----+----+----+----+-----+-----+\n|                2001|       8|                   2|                   4|                 NA4|1047| NA6|1222|  AA|1056|�NKNO�|NA11|  95|NA13|NA14|NA15| MCI| ORD| 403| 019| 020|   1|NA22| 023|NA24|NA25|NA26|NA27|NA28|YES29|YES30|\n+--------------------+--------+--------------------+--------------------+--------------------+----+----+----+----+----+------+----+----+----+----+----+----+----+----+----+----+----+----+----+----+----+----+----+----+-----+-----+\n|Airline On-Time S...|    NULL|                NULL|                NULL|                NULL|NULL|NULL|NULL|NULL|NULL|  NULL|NULL|NULL|NULL|NULL|NULL|NULL|NULL|NULL|NULL|NULL|NULL|NULL|NULL|NULL|NULL|NULL|NULL|NULL| NULL| NULL|\n|=================...|    NULL|                NULL|                NULL|                NULL|NULL|NULL|NULL|NULL|NULL|  NULL|NULL|NULL|NULL|NULL|NULL|NULL|NULL|NULL|NULL|NULL|NULL|NULL|NULL|NULL|NULL|NULL|NULL|NULL| NULL| NULL|\n|       ## Background|    NULL|                NULL|                NULL|                NULL|NULL|NULL|NULL|NULL|NULL|  NULL|NULL|NULL|NULL|NULL|NULL|NULL|NULL|NULL|NULL|NULL|NULL|NULL|NULL|NULL|NULL|NULL|NULL|NULL| NULL| NULL|\n|The U.S. Departme...| delayed| canceled and div...| published about ...| as well as in su...|NULL|NULL|NULL|NULL|NULL|  NULL|NULL|NULL|NULL|NULL|NULL|NULL|NULL|NULL|NULL|NULL|NULL|NULL|NULL|NULL|NULL|NULL|NULL|NULL| NULL| NULL|\n|FAQ Information i...|    NULL|                NULL|                NULL|                NULL|NULL|NULL|NULL|NULL|NULL|  NULL|NULL|NULL|NULL|NULL|NULL|NULL|NULL|NULL|NULL|NULL|NULL|NULL|NULL|NULL|NULL|NULL|NULL|NULL| NULL| NULL|\n+--------------------+--------+--------------------+--------------------+--------------------+----+----+----+----+----+------+----+----+----+----+----+----+----+----+----+----+----+----+----+----+----+----+----+----+-----+-----+\nonly showing top 5 rows\n"
     ]
    }
   ],
   "source": [
    "delta_df = spark.table(\"airlines_delta_table\")\n",
    "\n",
    "print(f\"✅ Delta table contains {delta_df.count()} records\")\n",
    "delta_df.show(5)\n"
   ]
  },
  {
   "cell_type": "markdown",
   "metadata": {
    "application/vnd.databricks.v1+cell": {
     "cellMetadata": {},
     "inputWidgets": {},
     "nuid": "20e5d7fb-e739-440a-89a8-508c67d76d6a",
     "showTitle": false,
     "tableResultSettingsMap": {},
     "title": ""
    }
   },
   "source": [
    "exploring versions of table "
   ]
  },
  {
   "cell_type": "code",
   "execution_count": 0,
   "metadata": {
    "application/vnd.databricks.v1+cell": {
     "cellMetadata": {
      "byteLimit": 2048000,
      "rowLimit": 10000
     },
     "inputWidgets": {},
     "nuid": "3fd3a874-96f7-4063-9e57-ba931fc5318d",
     "showTitle": false,
     "tableResultSettingsMap": {},
     "title": ""
    }
   },
   "outputs": [
    {
     "output_type": "stream",
     "name": "stdout",
     "output_type": "stream",
     "text": [
      "\uD83D\uDCDC Table History:\n+-------+-------------------+--------------+--------------------+--------------------+--------------------+----+------------------+--------------------+-----------+-----------------+-------------+--------------------+------------+--------------------+\n|version|          timestamp|        userId|            userName|           operation| operationParameters| job|          notebook|           clusterId|readVersion|   isolationLevel|isBlindAppend|    operationMetrics|userMetadata|          engineInfo|\n+-------+-------------------+--------------+--------------------+--------------------+--------------------+----+------------------+--------------------+-----------+-----------------+-------------+--------------------+------------+--------------------+\n|      0|2025-10-14 22:55:30|74093765346336|nithinyanna3@gmai...|CREATE OR REPLACE...|{partitionBy -> [...|NULL|{4417605415652951}|1014-214932-r754m...|       NULL|WriteSerializable|        false|{numFiles -> 1355...|        NULL|Databricks-Runtim...|\n+-------+-------------------+--------------+--------------------+--------------------+--------------------+----+------------------+--------------------+-----------+-----------------+-------------+--------------------+------------+--------------------+\n\n\n\uD83D\uDCCA Table Details:\n+------+--------------------+--------------------+-----------+--------+--------------------+-------------------+----------------+-----------------+--------+-----------+--------------------+----------------+----------------+--------------------+--------------------+-------------+\n|format|                  id|                name|description|location|           createdAt|       lastModified|partitionColumns|clusteringColumns|numFiles|sizeInBytes|          properties|minReaderVersion|minWriterVersion|       tableFeatures|          statistics|clusterByAuto|\n+------+--------------------+--------------------+-----------+--------+--------------------+-------------------+----------------+-----------------+--------+-----------+--------------------+----------------+----------------+--------------------+--------------------+-------------+\n| delta|1ade509f-7c64-4de...|workspace.default...|       NULL|        |2025-10-14 22:39:...|2025-10-14 22:55:30|              []|               []|    1355|15698980725|{delta.enableDele...|               3|               7|[appendOnly, dele...|{numRowsDeletedBy...|        false|\n+------+--------------------+--------------------+-----------+--------+--------------------+-------------------+----------------+-----------------+--------+-----------+--------------------+----------------+----------------+--------------------+--------------------+-------------+\n\n"
     ]
    }
   ],
   "source": [
    "from delta.tables import DeltaTable\n",
    "\n",
    "# Create DeltaTable object from metastore\n",
    "deltaTable = DeltaTable.forName(spark, \"airlines_delta_table\")\n",
    "\n",
    "print(\"\uD83D\uDCDC Table History:\")\n",
    "deltaTable.history().show()\n",
    "\n",
    "print(\"\\n\uD83D\uDCCA Table Details:\")\n",
    "deltaTable.detail().show()\n"
   ]
  }
 ],
 "metadata": {
  "application/vnd.databricks.v1+notebook": {
   "computePreferences": null,
   "dashboards": [],
   "environmentMetadata": {
    "base_environment": "",
    "environment_version": "4"
   },
   "inputWidgetPreferences": null,
   "language": "python",
   "notebookMetadata": {
    "pythonIndentUnit": 4
   },
   "notebookName": "notebook_3",
   "widgets": {}
  },
  "language_info": {
   "name": "python"
  }
 },
 "nbformat": 4,
 "nbformat_minor": 0
}