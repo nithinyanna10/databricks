{
 "cells": [
  {
   "cell_type": "markdown",
   "metadata": {
    "application/vnd.databricks.v1+cell": {
     "cellMetadata": {},
     "inputWidgets": {},
     "nuid": "cedac3a1-f55b-4e0b-9ef1-d51342b9cff0",
     "showTitle": false,
     "tableResultSettingsMap": {},
     "title": ""
    }
   },
   "source": [
    "Loading data "
   ]
  },
  {
   "cell_type": "code",
   "execution_count": 0,
   "metadata": {
    "application/vnd.databricks.v1+cell": {
     "cellMetadata": {
      "byteLimit": 2048000,
      "rowLimit": 10000
     },
     "inputWidgets": {},
     "nuid": "5e865bd3-7e28-4fe9-a2d9-2752c4d62409",
     "showTitle": false,
     "tableResultSettingsMap": {},
     "title": ""
    }
   },
   "outputs": [
    {
     "output_type": "stream",
     "name": "stdout",
     "output_type": "stream",
     "text": [
      "+----+---+---+---+----+----+----+----+---+----+------+----+---+----+----+----+---+---+---+---+---+---+----+---+----+----+----+----+----+-----+-----+\n|2001|  8|  2|  4| NA4|1047| NA6|1222| AA|1056|�NKNO�|NA11| 95|NA13|NA14|NA15|MCI|ORD|403|019|020|  1|NA22|023|NA24|NA25|NA26|NA27|NA28|YES29|YES30|\n+----+---+---+---+----+----+----+----+---+----+------+----+---+----+----+----+---+---+---+---+---+---+----+---+----+----+----+----+----+-----+-----+\n|2001|  8|  3|  5|1048|1047|1210|1222| AA|1056|N274A1|  82| 95|  66| -12|   1|MCI|ORD|403|  6| 10|  0|  NA|  0|  NA|  NA|  NA|  NA|  NA|   NO|  YES|\n|2001|  8|  4|  6|1043|1047|1159|1222| AA|1056|N513A1|  76| 95|  61| -23|  -4|MCI|ORD|403|  4| 11|  0|  NA|  0|  NA|  NA|  NA|  NA|  NA|   NO|   NO|\n|2001|  8|  5|  7|1043|1047|1203|1222| AA|1056|N532A1|  80| 95|  65| -19|  -4|MCI|ORD|403|  6|  9|  0|  NA|  0|  NA|  NA|  NA|  NA|  NA|   NO|   NO|\n|2001|  8|  6|  1|1045|1047|1159|1222| AA|1056|N521A1|  74| 95|  62| -23|  -2|MCI|ORD|403|  4|  8|  0|  NA|  0|  NA|  NA|  NA|  NA|  NA|   NO|   NO|\n|2001|  8|  7|  2|1047|1047|1208|1222| AA|1056|N417A1|  81| 95|  65| -14|   0|MCI|ORD|403|  6| 10|  0|  NA|  0|  NA|  NA|  NA|  NA|  NA|   NO|   NO|\n+----+---+---+---+----+----+----+----+---+----+------+----+---+----+----+----+---+---+---+---+---+---+----+---+----+----+----+----+----+-----+-----+\nonly showing top 5 rows\n"
     ]
    }
   ],
   "source": [
    "df = spark.read.csv(\"/databricks-datasets/airlines\", header=True, inferSchema=True)\n",
    "df.show(5)"
   ]
  },
  {
   "cell_type": "markdown",
   "metadata": {
    "application/vnd.databricks.v1+cell": {
     "cellMetadata": {},
     "inputWidgets": {},
     "nuid": "43f7147a-1c1d-45cc-9484-bd24aaf5156c",
     "showTitle": false,
     "tableResultSettingsMap": {},
     "title": ""
    }
   },
   "source": [
    "Transformations "
   ]
  },
  {
   "cell_type": "code",
   "execution_count": 0,
   "metadata": {
    "application/vnd.databricks.v1+cell": {
     "cellMetadata": {
      "byteLimit": 2048000,
      "rowLimit": 10000
     },
     "inputWidgets": {},
     "nuid": "bb4935f4-34fd-4d56-b47d-ab4d38c9b204",
     "showTitle": false,
     "tableResultSettingsMap": {},
     "title": ""
    }
   },
   "outputs": [],
   "source": [
    "# In transformations.ipynb\n",
    "df_selected = df.select(\"carrier\", \"dep_delay\", \"arr_delay\")\n"
   ]
  },
  {
   "cell_type": "code",
   "execution_count": 0,
   "metadata": {
    "application/vnd.databricks.v1+cell": {
     "cellMetadata": {
      "byteLimit": 2048000,
      "rowLimit": 10000
     },
     "inputWidgets": {},
     "nuid": "74146f58-16fa-4e40-98b1-a69441b27354",
     "showTitle": false,
     "tableResultSettingsMap": {},
     "title": ""
    }
   },
   "outputs": [],
   "source": [
    "from pyspark.sql.functions import expr\n",
    "df_new = df.withColumn(\"total_delay\", expr(\"dep_delay + arr_delay\"))\n"
   ]
  },
  {
   "cell_type": "code",
   "execution_count": 0,
   "metadata": {
    "application/vnd.databricks.v1+cell": {
     "cellMetadata": {
      "byteLimit": 2048000,
      "rowLimit": 10000
     },
     "inputWidgets": {},
     "nuid": "6402133f-7541-466f-8aad-66bb23c53fe8",
     "showTitle": false,
     "tableResultSettingsMap": {},
     "title": ""
    }
   },
   "outputs": [],
   "source": [
    "df_nodups = df.dropDuplicates()\n"
   ]
  }
 ],
 "metadata": {
  "application/vnd.databricks.v1+notebook": {
   "computePreferences": null,
   "dashboards": [],
   "environmentMetadata": {
    "base_environment": "",
    "environment_version": "4"
   },
   "inputWidgetPreferences": null,
   "language": "python",
   "notebookMetadata": {
    "pythonIndentUnit": 4
   },
   "notebookName": "notebook_2",
   "widgets": {}
  },
  "language_info": {
   "name": "python"
  }
 },
 "nbformat": 4,
 "nbformat_minor": 0
}